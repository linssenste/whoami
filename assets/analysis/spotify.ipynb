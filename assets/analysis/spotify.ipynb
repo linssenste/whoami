{
 "cells": [
  {
   "cell_type": "markdown",
   "metadata": {
    "id": "z1xFjeTWjTef"
   },
   "source": [
    "# Getting Spotify playlist data\n",
    "\n",
    "This Notebook has the intention to do some basic analysis from my favorite artists from spotify for my application website"
   ]
  },
  {
   "cell_type": "markdown",
   "metadata": {
    "id": "JajxTcGMYtJt"
   },
   "source": [
    "## Initialization"
   ]
  },
  {
   "cell_type": "code",
   "execution_count": 1,
   "metadata": {
    "execution": {
     "iopub.execute_input": "2024-12-06T09:29:53.918538Z",
     "iopub.status.busy": "2024-12-06T09:29:53.918341Z",
     "iopub.status.idle": "2024-12-06T09:29:54.809160Z",
     "shell.execute_reply": "2024-12-06T09:29:54.808497Z"
    },
    "id": "YtfvHanAPI0k"
   },
   "outputs": [],
   "source": [
    "import json\n",
    "import os\n",
    "import re\n",
    "import time\n",
    "from collections import Counter, defaultdict\n",
    "\n",
    "import requests\n",
    "import numpy as np\n",
    "import pandas as pd\n",
    "import matplotlib.pyplot as plt\n",
    "import matplotlib.dates as mdates\n",
    "from requests.auth import HTTPBasicAuth"
   ]
  },
  {
   "cell_type": "code",
   "execution_count": 2,
   "metadata": {
    "execution": {
     "iopub.execute_input": "2024-12-06T09:29:54.811691Z",
     "iopub.status.busy": "2024-12-06T09:29:54.811254Z",
     "iopub.status.idle": "2024-12-06T09:29:54.814744Z",
     "shell.execute_reply": "2024-12-06T09:29:54.814097Z"
    },
    "id": "mHCsRDq8sdgz"
   },
   "outputs": [],
   "source": [
    "os.makedirs(\"src/assets/analysis/\", exist_ok=True);"
   ]
  },
  {
   "cell_type": "code",
   "execution_count": 3,
   "metadata": {
    "execution": {
     "iopub.execute_input": "2024-12-06T09:29:54.816853Z",
     "iopub.status.busy": "2024-12-06T09:29:54.816511Z",
     "iopub.status.idle": "2024-12-06T09:29:54.819641Z",
     "shell.execute_reply": "2024-12-06T09:29:54.819010Z"
    },
    "id": "_uVZ5tK7_oOt"
   },
   "outputs": [],
   "source": [
    "# Spotify API parameters\n",
    "SPOTIFY_AUTH_URL     = 'https://accounts.spotify.com/api/token'\n",
    "SPOTIFY_API_URL = 'https://api.spotify.com/v1'\n",
    "\n",
    "SPOTIFY_PLAYLIST_ID = os.getenv('PLAYLIST_ID');"
   ]
  },
  {
   "cell_type": "markdown",
   "metadata": {
    "id": "spLv_s0fjorj"
   },
   "source": [
    "## API Auth\n",
    "Define the Spotify development project secrets as credentials to request from endpoints. For basic usage, a simple auth method is sufficient. However, to add or remove songs from a playlist, for example, an oauth via link is required - which is not needed in this application. More information can be found in [Spotify's API docs](https://developer.spotify.com/documentation/web-api)."
   ]
  },
  {
   "cell_type": "code",
   "execution_count": 4,
   "metadata": {
    "execution": {
     "iopub.execute_input": "2024-12-06T09:29:54.821699Z",
     "iopub.status.busy": "2024-12-06T09:29:54.821336Z",
     "iopub.status.idle": "2024-12-06T09:29:54.824307Z",
     "shell.execute_reply": "2024-12-06T09:29:54.823806Z"
    },
    "id": "Z13taO9NQSjF"
   },
   "outputs": [],
   "source": [
    "client_id = os.getenv('CLIENT_ID');\n",
    "client_secret = os.getenv('CLIENT_SECRET');"
   ]
  },
  {
   "cell_type": "code",
   "execution_count": 5,
   "metadata": {
    "execution": {
     "iopub.execute_input": "2024-12-06T09:29:54.826298Z",
     "iopub.status.busy": "2024-12-06T09:29:54.825958Z",
     "iopub.status.idle": "2024-12-06T09:29:54.905406Z",
     "shell.execute_reply": "2024-12-06T09:29:54.904805Z"
    },
    "id": "YIjjTgt7vNW1"
   },
   "outputs": [],
   "source": [
    "response = requests.post('https://accounts.spotify.com/api/token', {\n",
    "    'grant_type': 'client_credentials'\n",
    "}, auth=(client_id, client_secret))\n",
    "\n",
    "data = response.json()\n",
    "access_token = data['access_token']\n",
    "headers = {\n",
    "    'Authorization': f'Bearer {access_token}'\n",
    "}\n"
   ]
  },
  {
   "cell_type": "markdown",
   "metadata": {
    "id": "O1hSM4O7jiAv"
   },
   "source": [
    "## Playlist data\n",
    "\n",
    "First, all playlist tracks are loaded in batches and formatted by album (as album covers are displayed on the website). The track IDs are stored separately for the latter analysis."
   ]
  },
  {
   "cell_type": "code",
   "execution_count": 6,
   "metadata": {
    "execution": {
     "iopub.execute_input": "2024-12-06T09:29:54.907628Z",
     "iopub.status.busy": "2024-12-06T09:29:54.907451Z",
     "iopub.status.idle": "2024-12-06T09:29:54.914818Z",
     "shell.execute_reply": "2024-12-06T09:29:54.914346Z"
    },
    "id": "NcvwQoNFCQJS"
   },
   "outputs": [],
   "source": [
    "import time\n",
    "import requests\n",
    "\n",
    "def fetchPlaylistTracks(url, headers, max_retries=3, cooldown=5):\n",
    "    formatted_data = []\n",
    "    tracks = []\n",
    "\n",
    "    while url:\n",
    "        retries = 0\n",
    "\n",
    "        while retries < max_retries:\n",
    "            response = requests.get(url, headers=headers)\n",
    "\n",
    "            if response.status_code == 200:\n",
    "                data = response.json()\n",
    "                break  # Exit the retry loop when the request is successful\n",
    "\n",
    "            elif response.status_code == 429:  # API rate limit exceeded\n",
    "                print(\"Rate limit exceeded. Retrying after cooldown...\")\n",
    "                time.sleep(cooldown)\n",
    "                retries += 1\n",
    "\n",
    "            else:  # Handle unexpected status codes\n",
    "                print(f\"Unexpected status code: {response.status_code}. Retrying...\")\n",
    "                retries += 1\n",
    "\n",
    "        else:\n",
    "            # Raise an error if the max retries are exhausted\n",
    "            raise Exception(f\"Failed to fetch playlist tracks after {max_retries} attempts for URL: {url}\")\n",
    "\n",
    "        # Process data after a successful response\n",
    "        for item in data['items']:\n",
    "            track = item['track']\n",
    "            album = track['album']\n",
    "\n",
    "            tracks.append(track['id'])\n",
    "            # Check if the album already exists in formatted_data\n",
    "            existing_album = next((item for item in formatted_data if item['id'] == album['id']), None)\n",
    "\n",
    "            if existing_album:\n",
    "                # If the album exists, add the track to the album's tracks\n",
    "                if track['id'] not in existing_album['tracks']:\n",
    "                    existing_album['tracks'].append(track['id'])\n",
    "            else:\n",
    "                # If the album does not exist, create a new entry for the album\n",
    "                formatted_album = {\n",
    "                    'cover': album['images'][0]['url'].removeprefix('https://i.scdn.co/image/ab67616d0000b273'),\n",
    "                    'id': album['id'],\n",
    "                    'name': album['name'],\n",
    "                    'artists': [{'name': artist['name'], 'id': artist['id']} for artist in album['artists']],\n",
    "                    'release': album['release_date'],\n",
    "                    'tracks': [track['id']]\n",
    "                }\n",
    "\n",
    "                # Add the constructed album/track data to your list\n",
    "                formatted_data.append(formatted_album)\n",
    "\n",
    "        url = data.get('next')  # URL for the next set of items, if any\n",
    "\n",
    "    return formatted_data, tracks\n"
   ]
  },
  {
   "cell_type": "code",
   "execution_count": 7,
   "metadata": {
    "colab": {
     "base_uri": "https://localhost:8080/"
    },
    "execution": {
     "iopub.execute_input": "2024-12-06T09:29:54.916851Z",
     "iopub.status.busy": "2024-12-06T09:29:54.916411Z",
     "iopub.status.idle": "2024-12-06T09:30:04.387672Z",
     "shell.execute_reply": "2024-12-06T09:30:04.387014Z"
    },
    "id": "uLaP_N3ED1Jk",
    "outputId": "74bb3d88-e747-43d5-9110-b6995dfb4ae9"
   },
   "outputs": [
    {
     "name": "stdout",
     "output_type": "stream",
     "text": [
      "Albums:796\n",
      "Songs:1786\n"
     ]
    }
   ],
   "source": [
    "albums, tracks = fetchPlaylistTracks(f'{SPOTIFY_API_URL}/playlists/{SPOTIFY_PLAYLIST_ID}/tracks', headers);\n",
    "\n",
    "# stats\n",
    "print(\"Albums:\" + str(len(albums)));\n",
    "print(\"Songs:\" + str(len(tracks)))"
   ]
  },
  {
   "cell_type": "code",
   "execution_count": 8,
   "metadata": {
    "execution": {
     "iopub.execute_input": "2024-12-06T09:30:04.423903Z",
     "iopub.status.busy": "2024-12-06T09:30:04.423692Z",
     "iopub.status.idle": "2024-12-06T09:30:14.448151Z",
     "shell.execute_reply": "2024-12-06T09:30:14.447497Z"
    },
    "id": "ygDMDCZFB2mK"
   },
   "outputs": [],
   "source": [
    "with open(\"export-spotify-covers.json\", \"w\") as outfile:\n",
    "    json.dump(albums, outfile)\n",
    "\n",
    "time.sleep(10)"
   ]
  },
  {
   "cell_type": "markdown",
   "metadata": {
    "id": "jBIxfH03a-Ns"
   },
   "source": [
    "## Artist occurence & genres\n",
    "\n",
    "The artist profile data is loaded to get the genre information (what genre an artist belongs to), but also to get more information about the artist, like the name and also the link to their profile picture."
   ]
  },
  {
   "cell_type": "code",
   "execution_count": 9,
   "metadata": {
    "execution": {
     "iopub.execute_input": "2024-12-06T09:30:14.450658Z",
     "iopub.status.busy": "2024-12-06T09:30:14.450196Z",
     "iopub.status.idle": "2024-12-06T09:30:14.456102Z",
     "shell.execute_reply": "2024-12-06T09:30:14.455584Z"
    },
    "id": "SliyTnV9ujS_"
   },
   "outputs": [],
   "source": [
    "# Function to process albums and update stats for favorite artists\n",
    "def getArtistStats(albums, stats):\n",
    "    for album in albums:\n",
    "        album_artist_ids = [artist['id'] for artist in album['artists']]\n",
    "\n",
    "        for artist_id in album_artist_ids:\n",
    "\n",
    "            if artist_id not in stats:\n",
    "                stats[artist_id] = {\n",
    "                    'img': '',\n",
    "                    'tracks': len(album['tracks']),\n",
    "                    'albums': 1,\n",
    "                    'name': ''\n",
    "                }\n",
    "            else:\n",
    "                stats[artist_id]['tracks'] += len(album['tracks'])\n",
    "                stats[artist_id]['albums'] += 1\n",
    "\n",
    "# fetch artist data with retry mechanism\n",
    "def fetch_artist_data(artist_id, max_retries=3, cooldown=5):\n",
    "    retries = 0\n",
    "\n",
    "    while retries < max_retries:\n",
    "        response = requests.get(f'https://api.spotify.com/v1/artists/{artist_id}', headers=headers)\n",
    "\n",
    "        if response.status_code == 200:\n",
    "            return response.json()\n",
    "\n",
    "        elif response.status_code == 429:  # API rate limit exceeded\n",
    "            print(\"Rate limit exceeded. Retrying after cooldown...\")\n",
    "            time.sleep(cooldown)  # Wait for cooldown period\n",
    "            retries += 1\n",
    "\n",
    "        else:  # For other non-200 responses\n",
    "            print(f\"Unexpected status code: {response.status_code}. Retrying...\")\n",
    "            retries += 1\n",
    "\n",
    "    # After max retries, raise an error\n",
    "    raise Exception(f\"Failed to fetch artist data after {max_retries} attempts\")\n"
   ]
  },
  {
   "cell_type": "code",
   "execution_count": 10,
   "metadata": {
    "colab": {
     "base_uri": "https://localhost:8080/"
    },
    "execution": {
     "iopub.execute_input": "2024-12-06T09:30:14.457895Z",
     "iopub.status.busy": "2024-12-06T09:30:14.457704Z",
     "iopub.status.idle": "2024-12-06T09:30:46.591206Z",
     "shell.execute_reply": "2024-12-06T09:30:46.590586Z"
    },
    "id": "FfBmY2t1qcaU",
    "outputId": "8e1f8f1c-d157-4bfc-c31a-b6b8233e5971"
   },
   "outputs": [
    {
     "name": "stdout",
     "output_type": "stream",
     "text": [
      "Rate limit exceeded. Retrying after cooldown...\n"
     ]
    },
    {
     "name": "stdout",
     "output_type": "stream",
     "text": [
      "Rate limit exceeded. Retrying after cooldown...\n"
     ]
    }
   ],
   "source": [
    "artists_stats = dict();\n",
    "\n",
    "# Process albums data structure here\n",
    "getArtistStats(albums, artists_stats)\n",
    "\n",
    "genre_track_count = Counter()  # Using a Counter to easily sum values for the same key\n",
    "\n",
    "\n",
    "# Assuming artistStats is defined somewhere with artist IDs and their track counts\n",
    "for artist_id in artists_stats:\n",
    "\n",
    "\n",
    "    artist_data = fetch_artist_data(artist_id)  # Ensure headers is defined with your auth token\n",
    "\n",
    "    if not artist_data:\n",
    "        continue\n",
    "\n",
    "    genres = artist_data.get('genres', [])\n",
    "    artistTracksCount = artists_stats[artist_id]['tracks']\n",
    "\n",
    "    # Incrementing track count for each genre found for the artist\n",
    "    for genre in genres:\n",
    "        genre_track_count[genre] += artistTracksCount\n",
    "\n",
    "    # Optionally update image and name if present\n",
    "    if 'images' in artist_data and artist_data['images']:\n",
    "        artists_stats[artist_id]['img'] = artist_data['images'][0]['url'].replace('https://i.scdn.co/image/ab6761610000e5eb', '')\n",
    "        artists_stats[artist_id]['name'] = artist_data.get(\"name\", '')"
   ]
  },
  {
   "cell_type": "code",
   "execution_count": 11,
   "metadata": {
    "execution": {
     "iopub.execute_input": "2024-12-06T09:30:46.593542Z",
     "iopub.status.busy": "2024-12-06T09:30:46.593137Z",
     "iopub.status.idle": "2024-12-06T09:30:46.597439Z",
     "shell.execute_reply": "2024-12-06T09:30:46.596936Z"
    },
    "id": "MzIWm-1GwK_Y"
   },
   "outputs": [],
   "source": [
    "# add percentage\n",
    "artists_stats = {artist_id: {**details, 'occurrence': format(((details['tracks'] / len(tracks)) * 100), \".2f\")} for artist_id, details in artists_stats.items()}\n",
    "favorite_artists = sorted(artists_stats.items(), key=lambda x: x[1]['occurrence'], reverse=True)[:5];\n"
   ]
  },
  {
   "cell_type": "markdown",
   "metadata": {
    "id": "tmOgXEB3bjk1"
   },
   "source": [
    "### Generalised genres\n",
    "\n",
    "Since many genres are very specific and cannot be visualised in a meaningful way, they have to be grouped, e.g. German rap, Swiss rap are all in the category rap. Some genres like \" antidetusch \" cannot be grouped and are put into the category \"other\". The counts of this category are stored separately to be able to list the \"other\" genres."
   ]
  },
  {
   "cell_type": "code",
   "execution_count": 12,
   "metadata": {
    "execution": {
     "iopub.execute_input": "2024-12-06T09:30:46.599535Z",
     "iopub.status.busy": "2024-12-06T09:30:46.599173Z",
     "iopub.status.idle": "2024-12-06T09:30:46.606122Z",
     "shell.execute_reply": "2024-12-06T09:30:46.605597Z"
    },
    "id": "2n-1p7w2Pq5G"
   },
   "outputs": [],
   "source": [
    "# list of general genres with some additional groupings\n",
    "general_genres = [\n",
    "    'pop', 'indie', 'hip hop', 'rock', 'edm', 'jazz', 'reggae', 'singer-songwriter',\n",
    "    'ambient', 'experimental', 'electronic', 'folk', 'alternative', 'punk', 'ska', 'metal',\n",
    "    'classical', 'country', 'soul', 'blues', 'r&b', 'comedy', 'grunge', 'new wave'\n",
    "]\n",
    "\n",
    "general_genre_counts = Counter()\n",
    "unmatched_genre_counts = Counter()\n",
    "\n",
    "def match_general_genre(specific_genre, general_genres):\n",
    "\n",
    "    # Normalize and consolidate similar genres\n",
    "    specific_genre = specific_genre.lower()\n",
    "    if 'electro' in specific_genre or 'dance' in specific_genre:\n",
    "        return 'electronic'\n",
    "    if 'hip hop' in specific_genre or 'rap' in specific_genre:\n",
    "        return 'hip hop/rap'\n",
    "    if 'motown' in specific_genre or 'soul' in specific_genre or 'r&b' in specific_genre:\n",
    "        return 'soul/r&b'\n",
    "    if 'neue deutsche welle' in specific_genre or 'german' in specific_genre:\n",
    "        return 'alternative'\n",
    "    if 'grunge' in specific_genre or 'post-grunge' in specific_genre:\n",
    "        return 'grunge'\n",
    "    if 'new wave' in specific_genre or 'new romantic' in specific_genre:\n",
    "        return 'new wave'\n",
    "    if 'comedy' in specific_genre or 'parody' in specific_genre or 'comic' in specific_genre:\n",
    "        return 'comedy'\n",
    "\n",
    "    # check for matches in general genres\n",
    "    for general_genre in general_genres:\n",
    "        if general_genre in specific_genre:\n",
    "            return general_genre\n",
    "\n",
    "    # track unmatched genres\n",
    "    unmatched_genre_counts[specific_genre] += 1\n",
    "    return 'other'\n",
    "\n",
    "# categorize each specific genre\n",
    "for specific_genre, count in genre_track_count.items():\n",
    "    general_genre = match_general_genre(specific_genre, general_genres)\n",
    "    general_genre_counts[general_genre] += count\n",
    "    if general_genre == 'other':\n",
    "        unmatched_genre_counts[specific_genre] += count\n",
    "\n",
    "general_genre_counts = sorted(general_genre_counts.items(), key=lambda x: x[1], reverse=True)"
   ]
  },
  {
   "cell_type": "markdown",
   "metadata": {
    "id": "WqFr42SdM-pA"
   },
   "source": [
    "## Track's audio features\n",
    "\n",
    "The Spotify API can be used to retrieve a track's features. This data includes danceability, valence, speechiness and so on. This information for each song is retrieved in batches and then averaged to give a score for the whole dataset."
   ]
  },
  {
   "cell_type": "markdown",
   "metadata": {
    "id": "rKXQeyEkPEE8"
   },
   "source": [
    "**NOTE:** this feature was surprisingly deprecated and may therefore not used anymore TBD"
   ]
  },
  {
   "cell_type": "code",
   "execution_count": 13,
   "metadata": {
    "execution": {
     "iopub.execute_input": "2024-12-06T09:30:46.608339Z",
     "iopub.status.busy": "2024-12-06T09:30:46.607976Z",
     "iopub.status.idle": "2024-12-06T09:30:46.611574Z",
     "shell.execute_reply": "2024-12-06T09:30:46.610929Z"
    },
    "id": "GRyi0ZSdJmaS"
   },
   "outputs": [],
   "source": [
    "\n",
    "# deduplicate the track IDs in case the same track appears more than once\n",
    "unique_track_ids = tracks\n",
    "\n",
    "#audio_features_data = {}\n",
    "\n",
    "# spotify limits the number of track IDs you can request at once to 100\n",
    "#batch_size = 100\n",
    "#for i in range(0, len(unique_track_ids), batch_size):\n",
    "\n",
    "#    batch = unique_track_ids[i:i+batch_size]\n",
    "\n",
    "#    response = requests.get((f'{SPOTIFY_API_URL}/audio-features/'), headers=headers, params={'ids': ','.join(batch)})\n",
    "#    data = response.json()\n",
    "\n",
    "    # For each track, fetch its audio features\n",
    "#    for feature in data['audio_features']:\n",
    "#        if feature:  # Check if the feature is not None\n",
    "#           track_id = feature['id']\n",
    "\n",
    "            # Remove 'track_href' and 'analysis_url' from the feature data\n",
    "#            feature.pop('track_href', None)  # Use pop to remove 'track_href', if it exists\n",
    "#            feature.pop('analysis_url', None)  # Use pop to remove 'analysis_url', if it exists\n",
    "#           feature.pop('uri', None)  # Use pop to remove 'analysis_url', if it exists\n",
    "\n",
    "#           audio_features_data[track_id] = feature\n",
    "\n",
    "# Initialize a dictionary to hold the sum of each feature\n",
    "#features_sum = {key: 0 for key in audio_features_data[list(audio_features_data.keys())[0]].keys() if key != 'type' and key != 'id' and key != 'uri' and key != 'track_href' and key != 'analysis_url' and key != 'duration_ms' and key != 'time_signature'}\n",
    "\n",
    "# Sum up all the features\n",
    "#for features in audio_features_data.values():\n",
    "#    for key, value in features.items():\n",
    "#        if key in features_sum:\n",
    "#            features_sum[key] += value\n",
    "\n",
    "# Calculate the average\n",
    "#features_avg = {key: (value / len(audio_features_data)) for key, value in features_sum.items()}"
   ]
  },
  {
   "cell_type": "markdown",
   "metadata": {
    "id": "jp6fNWptfcz4"
   },
   "source": [
    "## Playlist duration"
   ]
  },
  {
   "cell_type": "code",
   "execution_count": 14,
   "metadata": {
    "execution": {
     "iopub.execute_input": "2024-12-06T09:30:46.613502Z",
     "iopub.status.busy": "2024-12-06T09:30:46.613144Z",
     "iopub.status.idle": "2024-12-06T09:30:55.015479Z",
     "shell.execute_reply": "2024-12-06T09:30:55.014871Z"
    },
    "id": "bUoyLBwSff5A"
   },
   "outputs": [],
   "source": [
    "# fetch data for multiple tracks at once\n",
    "def fetch_tracks_data(track_ids):\n",
    "    track_ids_str = ','.join(track_ids)\n",
    "    response = requests.get(f'https://api.spotify.com/v1/tracks?ids={track_ids_str}', headers=headers)\n",
    "    if response.status_code == 200:\n",
    "        return response.json()['tracks']\n",
    "    else:\n",
    "        return []\n",
    "\n",
    "playlist_duration = 0\n",
    "\n",
    "# Create batches of up to 50 track IDs\n",
    "batch_size = 50\n",
    "for i in range(0, len(tracks), batch_size):\n",
    "    batch = unique_track_ids[i:i+batch_size]\n",
    "    track_data = fetch_tracks_data(batch)\n",
    "    for track in track_data:\n",
    "        if track:  # Ensure the track data is not None\n",
    "            playlist_duration += track.get('duration_ms', 0)\n",
    "\n",
    "\n"
   ]
  },
  {
   "cell_type": "markdown",
   "metadata": {
    "id": "GGZY86N_c6hh"
   },
   "source": [
    "## Release date grouping\n"
   ]
  },
  {
   "cell_type": "code",
   "execution_count": 15,
   "metadata": {
    "execution": {
     "iopub.execute_input": "2024-12-06T09:30:55.017604Z",
     "iopub.status.busy": "2024-12-06T09:30:55.017398Z",
     "iopub.status.idle": "2024-12-06T09:30:55.258057Z",
     "shell.execute_reply": "2024-12-06T09:30:55.257357Z"
    },
    "id": "xml6UdKhiKtq"
   },
   "outputs": [],
   "source": [
    "# Initialize a defaultdict to count albums per decade\n",
    "decade_counts = defaultdict(int)\n",
    "\n",
    "for details in albums:\n",
    "    # Extract year from the release_date\n",
    "    date = pd.to_datetime(details['release'])\n",
    "\n",
    "    # Convert year to its corresponding decade\n",
    "    year = date.year\n",
    "    decade = (year // 10) * 10\n",
    "\n",
    "    # Count albums per decade\n",
    "    decade_counts[decade] += len(details['tracks'])\n",
    "\n",
    "sorted_counts = sorted(decade_counts.items())"
   ]
  },
  {
   "cell_type": "markdown",
   "metadata": {
    "id": "i0jaEoC0dMOG"
   },
   "source": [
    "# Export resulting analysis data"
   ]
  },
  {
   "cell_type": "code",
   "execution_count": 16,
   "metadata": {
    "execution": {
     "iopub.execute_input": "2024-12-06T09:30:55.260280Z",
     "iopub.status.busy": "2024-12-06T09:30:55.259950Z",
     "iopub.status.idle": "2024-12-06T09:30:55.263433Z",
     "shell.execute_reply": "2024-12-06T09:30:55.262816Z"
    },
    "id": "C4-bVKdxPvuZ"
   },
   "outputs": [],
   "source": [
    "\n",
    "# reusing the audio-features from the prev analysis as a workaround for now (songs are barely updated anyway)\n",
    "\n",
    "features_avg = {}\n",
    "with open(\"export-spotify-analysis.json\") as f:\n",
    "    prevData = json.load(f)\n",
    "    features_avg = prevData[\"features\"]\n",
    "\n",
    "\n"
   ]
  },
  {
   "cell_type": "code",
   "execution_count": 17,
   "metadata": {
    "execution": {
     "iopub.execute_input": "2024-12-06T09:30:55.265328Z",
     "iopub.status.busy": "2024-12-06T09:30:55.264998Z",
     "iopub.status.idle": "2024-12-06T09:30:55.268973Z",
     "shell.execute_reply": "2024-12-06T09:30:55.268373Z"
    },
    "id": "B9Cma44djTQN"
   },
   "outputs": [],
   "source": [
    "# Constructing the data structure\n",
    "dataResult = {\n",
    "    \"update_time\": int(time.time()),\n",
    "    \"stats\": {\n",
    "        \"albums\": len(albums),\n",
    "        \"tracks\": len(tracks),\n",
    "        \"artists\": len(artists_stats),\n",
    "        \"duration\": playlist_duration/60000\n",
    "    },\n",
    "\n",
    "    \"genres\": {\n",
    "        \"general\": dict(general_genre_counts), #dict(general_genre_counts),\n",
    "        \"detailed\": dict(genre_track_count.most_common(10))\n",
    "    },\n",
    "\n",
    "    \"features\": dict(features_avg),\n",
    "    \"artists\": dict(favorite_artists),\n",
    "    \"decades\": dict(sorted_counts)\n",
    "\n",
    "}"
   ]
  },
  {
   "cell_type": "code",
   "execution_count": 18,
   "metadata": {
    "execution": {
     "iopub.execute_input": "2024-12-06T09:30:55.270858Z",
     "iopub.status.busy": "2024-12-06T09:30:55.270529Z",
     "iopub.status.idle": "2024-12-06T09:30:55.273890Z",
     "shell.execute_reply": "2024-12-06T09:30:55.273264Z"
    },
    "id": "toKXTFAWB_NZ"
   },
   "outputs": [],
   "source": [
    "with open(\"export-spotify-analysis.json\", \"w\") as outfile:\n",
    "    json.dump(dataResult, outfile)"
   ]
  }
 ],
 "metadata": {
  "colab": {
   "provenance": []
  },
  "kernelspec": {
   "display_name": "Python 3",
   "name": "python3"
  },
  "language_info": {
   "codemirror_mode": {
    "name": "ipython",
    "version": 3
   },
   "file_extension": ".py",
   "mimetype": "text/x-python",
   "name": "python",
   "nbconvert_exporter": "python",
   "pygments_lexer": "ipython3",
   "version": "3.9.20"
  }
 },
 "nbformat": 4,
 "nbformat_minor": 0
}
